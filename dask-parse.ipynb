{
 "cells": [
  {
   "cell_type": "markdown",
   "metadata": {},
   "source": [
    "# Import and process metatranscriptomic occurences\n",
    "## Using Dask to expedite the process"
   ]
  },
  {
   "cell_type": "markdown",
   "metadata": {},
   "source": [
    "### If you don't have it already-- download the metatranscriptomic_occurances.tsv file from genoscope. \n"
   ]
  },
  {
   "cell_type": "code",
   "execution_count": null,
   "metadata": {},
   "outputs": [],
   "source": [
    "%%bash\n",
    "\n",
    "curl -L -O https://www.genoscope.cns.fr/tara/localdata/data/Geneset-v1/metatranscriptomic_occurrences.tsv.gz"
   ]
  },
  {
   "cell_type": "markdown",
   "metadata": {},
   "source": [
    "### Setup dask and dask jobqueue to process the data and facilitate reading the table into memory\n",
    "Note: here we are running the computations on a Slurm scheduler-- but you can easily adapt the code to work on any variety of job scheduler. See: http://jobqueue.dask.org/en/latest/index.html"
   ]
  },
  {
   "cell_type": "code",
   "execution_count": null,
   "metadata": {},
   "outputs": [],
   "source": [
    "# Start Dask jobqueue on Slurm \n",
    "import pandas as pd\n",
    "import dask.dataframe as dd\n",
    "from dask.distributed import Client\n",
    "\n",
    "from dask_jobqueue import SLURMCluster\n",
    "\n",
    "cluster = SLURMCluster(processes=6, cores=6, memory=\"40GB\",\n",
    "                     queue='compute',\n",
    "                     name=\"TaraEuk\",\n",
    "                     walltime='08:00:00')\n",
    "\n",
    "# Initialize client clusters on the slurm queue\n",
    "from dask.distributed import Client\n",
    "cluster.start_workers(40)\n",
    "client = Client(cluster)"
   ]
  },
  {
   "cell_type": "markdown",
   "metadata": {},
   "source": [
    "### Read in Metatranscriptomic_occurences.tsv file from Carradec et al 2018. "
   ]
  },
  {
   "cell_type": "code",
   "execution_count": null,
   "metadata": {},
   "outputs": [],
   "source": [
    "# read in tsv file to a dask dataframe file\n",
    "\n",
    "metaT_file = '/vortexfs1/omics/alexander/data/TARA/processed_data/Geneset-v1/metatranscriptomic_occurrences.tsv' #chnage to the location of the metatranscriptomic occurances files\n",
    "mdf = dd.read_table(metaT_file)\n",
    "mdf.head()"
   ]
  },
  {
   "cell_type": "markdown",
   "metadata": {},
   "source": [
    "### 1 ) Sum occurance data by sample location to get total FPKM per sample "
   ]
  },
  {
   "cell_type": "code",
   "execution_count": null,
   "metadata": {},
   "outputs": [],
   "source": [
    "# groupby sample code and sum data and write to csv file \n",
    "smdf = mdf.groupby('sampleCode').sum()\n",
    "pd_sample_sum = mdf.compute()\n",
    "pd_sample_sum.drop('unigeneID', axis =1).to_csv('sample_abundance.tsv')"
   ]
  },
  {
   "cell_type": "markdown",
   "metadata": {},
   "source": [
    "### 2) Get all Micromonas genes and their associated abundances "
   ]
  },
  {
   "cell_type": "code",
   "execution_count": null,
   "metadata": {},
   "outputs": [],
   "source": [
    "# index mdf by unigeneIDs\n",
    "imdf = mdf.set_index('unigeneID') #slow "
   ]
  },
  {
   "cell_type": "code",
   "execution_count": null,
   "metadata": {},
   "outputs": [],
   "source": [
    "# read in list of micromonas-related genes from a grep search for micromonas in the taxonomy file; output to new file\n",
    "\n",
    "microGenes = pd.read_table(\"micromonas.taxonomy.tsv\")\n",
    "microGeneId = list(microGenes.geneID)\n",
    "micro_df = imdf.loc[microGeneId]\n",
    "micro_pd = micro_df.compute()\n",
    "micro_pd.to_csv('metaT-micromonas-ALL.csv')\n"
   ]
  }
 ],
 "metadata": {
  "kernelspec": {
   "display_name": "Python 3",
   "language": "python",
   "name": "python3"
  },
  "language_info": {
   "codemirror_mode": {
    "name": "ipython",
    "version": 3
   },
   "file_extension": ".py",
   "mimetype": "text/x-python",
   "name": "python",
   "nbconvert_exporter": "python",
   "pygments_lexer": "ipython3",
   "version": "3.6.4"
  }
 },
 "nbformat": 4,
 "nbformat_minor": 2
}
